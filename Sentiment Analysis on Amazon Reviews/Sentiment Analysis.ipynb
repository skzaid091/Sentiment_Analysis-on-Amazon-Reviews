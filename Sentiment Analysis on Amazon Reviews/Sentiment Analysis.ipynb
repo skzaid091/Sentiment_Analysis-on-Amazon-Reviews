{
 "cells": [
  {
   "cell_type": "markdown",
   "id": "d18567a4",
   "metadata": {},
   "source": [
    "#                     Sentiment Analysis on AMAZON Food Reviews"
   ]
  },
  {
   "cell_type": "markdown",
   "id": "d9cde992",
   "metadata": {},
   "source": [
    "### Importing required modules"
   ]
  },
  {
   "cell_type": "code",
   "execution_count": null,
   "id": "78d99466",
   "metadata": {},
   "outputs": [],
   "source": [
    "import numpy as np\n",
    "import pandas as pd\n",
    "import matplotlib.pyplot as plt\n",
    "from pprint import pprint\n",
    "import string\n",
    "\n",
    "plt.style.use('ggplot')\n",
    "\n",
    "import nltk as nlp"
   ]
  },
  {
   "cell_type": "markdown",
   "id": "602de882",
   "metadata": {},
   "source": [
    "### Reading Data"
   ]
  },
  {
   "cell_type": "code",
   "execution_count": null,
   "id": "2c06b569",
   "metadata": {},
   "outputs": [],
   "source": [
    "data = pd.read_csv('Data/Reviews.csv')"
   ]
  },
  {
   "cell_type": "code",
   "execution_count": null,
   "id": "c2a70808",
   "metadata": {},
   "outputs": [],
   "source": [
    "data.head()"
   ]
  },
  {
   "cell_type": "code",
   "execution_count": null,
   "id": "20effa3c",
   "metadata": {},
   "outputs": [],
   "source": [
    "data.shape"
   ]
  },
  {
   "cell_type": "code",
   "execution_count": null,
   "id": "5284baf0",
   "metadata": {},
   "outputs": [],
   "source": [
    "print(data.shape)\n",
    "data = data.head(500)\n",
    "print(data.shape)"
   ]
  },
  {
   "cell_type": "markdown",
   "id": "47cf1fce",
   "metadata": {},
   "source": [
    "### Quick EDA"
   ]
  },
  {
   "cell_type": "code",
   "execution_count": null,
   "id": "d092f5a2",
   "metadata": {},
   "outputs": [],
   "source": [
    "ax = data['Score'].value_counts()\\\n",
    "                  .sort_index().plot(kind='bar', title='Count of Reviews by Stars', figsize=(10, 5))\n",
    "ax.set_xlabel('Review Stars')\n",
    "plt.show()"
   ]
  },
  {
   "cell_type": "markdown",
   "id": "7bf5953c",
   "metadata": {},
   "source": [
    "### Basic NLTK"
   ]
  },
  {
   "cell_type": "code",
   "execution_count": null,
   "id": "6a918fc2",
   "metadata": {},
   "outputs": [],
   "source": [
    "example = data['Text'][50]\n",
    "print(example)"
   ]
  },
  {
   "cell_type": "code",
   "execution_count": null,
   "id": "06968ff6",
   "metadata": {},
   "outputs": [],
   "source": [
    "nlp.sent_tokenize(example)"
   ]
  },
  {
   "cell_type": "code",
   "execution_count": null,
   "id": "ede775e6",
   "metadata": {},
   "outputs": [],
   "source": [
    "upd_example = example.translate(str.maketrans('', '', string.punctuation))\n",
    "tokens = nlp.tokenize.word_tokenize(upd_example)\n",
    "tokens[:10]"
   ]
  },
  {
   "cell_type": "code",
   "execution_count": null,
   "id": "684eb81a",
   "metadata": {},
   "outputs": [],
   "source": [
    "tagged = nlp.pos_tag(tokens)\n",
    "tagged[:10]"
   ]
  },
  {
   "cell_type": "code",
   "execution_count": null,
   "id": "995edaa3",
   "metadata": {},
   "outputs": [],
   "source": [
    "chk = nlp.chunk.ne_chunk(tagged)\n",
    "chk.pprint()"
   ]
  },
  {
   "cell_type": "markdown",
   "id": "8e89b22d",
   "metadata": {},
   "source": [
    "# VADER Sentiment Analysis"
   ]
  },
  {
   "cell_type": "code",
   "execution_count": null,
   "id": "102885e9",
   "metadata": {},
   "outputs": [],
   "source": [
    "from nltk.sentiment import SentimentIntensityAnalyzer\n",
    "from nltk.corpus import stopwords\n",
    "from tqdm.notebook import tqdm"
   ]
  },
  {
   "cell_type": "code",
   "execution_count": null,
   "id": "4a7ff245",
   "metadata": {},
   "outputs": [],
   "source": [
    "sia = SentimentIntensityAnalyzer()\n",
    "sw = stopwords.words('english')"
   ]
  },
  {
   "cell_type": "code",
   "execution_count": null,
   "id": "23e8ac6f",
   "metadata": {},
   "outputs": [],
   "source": [
    "sia.polarity_scores(example)"
   ]
  },
  {
   "cell_type": "code",
   "execution_count": null,
   "id": "c41fd62c",
   "metadata": {},
   "outputs": [],
   "source": [
    "# Polarity Scores for Entire dataset\n",
    "\n",
    "result = {}\n",
    "for i, d in tqdm(data.iterrows(), total=len(data)):\n",
    "    row = d['Text']\n",
    "    myid = d['Id']\n",
    "    result[myid] = sia.polarity_scores(row)"
   ]
  },
  {
   "cell_type": "code",
   "execution_count": null,
   "id": "37b81bef",
   "metadata": {},
   "outputs": [],
   "source": [
    "vaders = pd.DataFrame(result).T\n",
    "vaders = vaders.reset_index().rename(columns= {'index': 'Id'})\n",
    "vaders = vaders.merge(data, how='left')\n",
    "vaders.head(2)"
   ]
  },
  {
   "cell_type": "code",
   "execution_count": null,
   "id": "dcc65280",
   "metadata": {},
   "outputs": [],
   "source": [
    "import seaborn as sns\n",
    "\n",
    "ax = sns.barplot(data=vaders, x='Score', y='compound')\n",
    "ax.set_title('Compound Score by Amazon Star Reviews')\n",
    "plt.show()"
   ]
  },
  {
   "cell_type": "markdown",
   "id": "bf597113",
   "metadata": {},
   "source": [
    "# Using Roberta Model"
   ]
  },
  {
   "cell_type": "code",
   "execution_count": null,
   "id": "55d7cacd",
   "metadata": {},
   "outputs": [],
   "source": [
    "from transformers import AutoTokenizer\n",
    "from transformers import AutoModelForSequenceClassification\n",
    "from scipy.special import softmax"
   ]
  },
  {
   "cell_type": "code",
   "execution_count": null,
   "id": "d1bbf198",
   "metadata": {},
   "outputs": [],
   "source": [
    "MODEL = f\"cardiffnlp/twitter-roberta-base-sentiment\"\n",
    "tokenizer = AutoTokenizer.from_pretrained(MODEL)\n",
    "model = AutoModelForSequenceClassification.from_pretrained(MODEL)"
   ]
  },
  {
   "cell_type": "code",
   "execution_count": null,
   "id": "35bdc051",
   "metadata": {},
   "outputs": [],
   "source": [
    "# Previous Results of Vader Class\n",
    "print(example)\n",
    "sia.polarity_scores(example)"
   ]
  },
  {
   "cell_type": "code",
   "execution_count": null,
   "id": "a5788459",
   "metadata": {},
   "outputs": [],
   "source": [
    "# Output of Roberta Model\n",
    "def polarity_scores_roberta(example):\n",
    "    encoded_text = tokenizer(example, return_tensors='pt')\n",
    "    output = model(**encoded_text)\n",
    "    scores = output[0][0].detach().numpy()\n",
    "    scores = softmax(scores)\n",
    "    scores_out = {\n",
    "        'roberta-negative' = scores[0],\n",
    "        'roberta-neutral' = scores[1],\n",
    "        'roberta-positive' = scores[2]\n",
    "    }\n",
    "    return cores_out"
   ]
  },
  {
   "cell_type": "code",
   "execution_count": null,
   "id": "5951bbb5",
   "metadata": {},
   "outputs": [],
   "source": [
    "result = {}\n",
    "for i, d in tqdm(data.iterrows(), total=len(data)):\n",
    "    try:\n",
    "        row = d['Text']\n",
    "        myid = d['Id']\n",
    "        vader_result = sia.polarity_scores(row)\n",
    "\n",
    "        vader_result_rename = {}\n",
    "        for key, value in vader_result.items():\n",
    "            vader_result_rename[f'vader_{key}'] = value\n",
    "        roberta_result = polarity_scores_roberta(row)\n",
    "        both = {**vader_result_rename, **roberta_result}\n",
    "        result[myid] = both\n",
    "    except RuntimeError:\n",
    "        print(f'Problem occurred for id {myid}')"
   ]
  },
  {
   "cell_type": "code",
   "execution_count": null,
   "id": "b10e2f0e",
   "metadata": {},
   "outputs": [],
   "source": [
    "combined_results = pd.DataFrame(result).T\n",
    "combined_results = combined_results.reset_index().rename(columns= {'index': 'Id'})\n",
    "combined_results = combined_results.merge(data, how='left')"
   ]
  },
  {
   "cell_type": "code",
   "execution_count": null,
   "id": "d700a4a2",
   "metadata": {},
   "outputs": [],
   "source": [
    "# We now have both results : 1) Vader Results and 2) Roberta Results\n",
    "combined_results.head()"
   ]
  }
 ],
 "metadata": {
  "kernelspec": {
   "display_name": "Python 3 (ipykernel)",
   "language": "python",
   "name": "python3"
  },
  "language_info": {
   "codemirror_mode": {
    "name": "ipython",
    "version": 3
   },
   "file_extension": ".py",
   "mimetype": "text/x-python",
   "name": "python",
   "nbconvert_exporter": "python",
   "pygments_lexer": "ipython3",
   "version": "3.10.4"
  }
 },
 "nbformat": 4,
 "nbformat_minor": 5
}
